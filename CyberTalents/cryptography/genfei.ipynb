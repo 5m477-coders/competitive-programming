{
 "cells": [
  {
   "cell_type": "markdown",
   "metadata": {},
   "source": [
    "# The encryption algorithm"
   ]
  },
  {
   "cell_type": "code",
   "execution_count": 1,
   "metadata": {},
   "outputs": [],
   "source": [
    "import sys\n",
    "from struct import pack, unpack\n",
    "\n",
    "def F(w):\n",
    "    return ((w * 31337) ^ (w * 1337 >> 16)) % 2**32\n",
    "\n",
    "def encrypt(block):\n",
    "    a, b, c, d = unpack(\"<4I\", block)\n",
    "    for rno in xrange(32):\n",
    "        a, b, c, d = b ^ F(a | F(c ^ F(d)) ^ F(a | c) ^ d), c ^ F(a ^ F(d) ^ (a | d)), d ^ F(a | F(a) ^ a), a ^ 31337\n",
    "        a, b, c, d = c ^ F(d | F(b ^ F(a)) ^ F(d | b) ^ a), b ^ F(d ^ F(a) ^ (d | a)), a ^ F(d | F(d) ^ d), d ^ 1337\n",
    "    return pack(\"<4I\", a, b, c, d)"
   ]
  },
  {
   "cell_type": "markdown",
   "metadata": {},
   "source": [
    "# Reverse engineering the encryption algorithm\n",
    "- First it's noticed that the algorithm works on blocks of 16 bytes\n",
    "- Each block is divided into four 4-byte ints (a,b,c,d)\n",
    "- 32 Rounds are performed on these ints\n",
    "- Each round performs two operations on these 4 ints\n",
    "- We will need to figure out a way to reverse these functions"
   ]
  },
  {
   "cell_type": "code",
   "execution_count": 2,
   "metadata": {},
   "outputs": [],
   "source": [
    "def reverse_second_op(a1, b1, c1, d1):\n",
    "    # Variables should be decoded in the given sequence d0, a0, b0, c0\n",
    "    d0 = d1 ^ 1337\n",
    "        \n",
    "    fd0 = F(d0 | F(d0) ^ d0)\n",
    "    a0 = c1 ^ fd0\n",
    "\n",
    "    fad0 = F(d0 ^ F(a0) ^ (d0 | a0))\n",
    "    b0 = b1 ^ fad0\n",
    "\n",
    "    fabd0 = F(d0 | F(b0 ^ F(a0)) ^ F(d0 | b0) ^ a0)\n",
    "\n",
    "    c0 = a1 ^ fabd0\n",
    "    \n",
    "    return a0, b0, c0, d0"
   ]
  },
  {
   "cell_type": "code",
   "execution_count": 3,
   "metadata": {},
   "outputs": [],
   "source": [
    "def reverse_first_op(a1, b1, c1, d1):\n",
    "    a0 = d1 ^ 31337\n",
    "    \n",
    "    fa0 = F(a0 | F(a0) ^ a0)\n",
    "    d0 = c1 ^ fa0\n",
    "    \n",
    "    fad0 = F(a0 ^ F(d0) ^ (a0 | d0))\n",
    "    c0 = b1 ^ fad0\n",
    "    \n",
    "    facd0 = F(a0 | F(c0 ^ F(d0)) ^ F(a0 | c0) ^ d0)\n",
    "    b0 = a1 ^ facd0\n",
    "    \n",
    "    return  a0, b0, c0, d0"
   ]
  },
  {
   "cell_type": "code",
   "execution_count": 4,
   "metadata": {},
   "outputs": [],
   "source": [
    "def decrypt(block):\n",
    "    a, b, c, d = unpack(\"<4I\", block)\n",
    "    for rno in range(32):\n",
    "        # Second operation is reversed first\n",
    "        a, b, c, d = reverse_second_op(a, b, c, d)\n",
    "        # First operation is reversed\n",
    "        a, b, c, d = reverse_first_op(a, b, c, d)\n",
    "    \n",
    "    return pack(\"<4I\", a, b, c, d)"
   ]
  },
  {
   "cell_type": "markdown",
   "metadata": {},
   "source": [
    "# How to encrypt a new message?"
   ]
  },
  {
   "cell_type": "code",
   "execution_count": 5,
   "metadata": {},
   "outputs": [],
   "source": [
    "def encrypt_file(file_name):\n",
    "    pt = open(file_name).read()\n",
    "    while len(pt) % 16: pt += \"#\"\n",
    "\n",
    "    ct = \"\".join(encrypt(pt[i:i+16]) for i in xrange(0, len(pt), 16))\n",
    "    open(file_name + \".enc\", \"w\").write(ct)"
   ]
  },
  {
   "cell_type": "markdown",
   "metadata": {},
   "source": [
    "# How to decrypt an encrypted message?"
   ]
  },
  {
   "cell_type": "code",
   "execution_count": 6,
   "metadata": {},
   "outputs": [],
   "source": [
    "def decrypt_file(file_name):\n",
    "    pt = open(file_name, 'rb').read()\n",
    "    # No need to add any padding\n",
    "\n",
    "    # Decode the bytes stream using .decode() before joining the list\n",
    "    ct = ''.join([decrypt(pt[i:i+16]).decode() for i in range(0, len(pt), 16)])\n",
    "    print(ct)"
   ]
  },
  {
   "cell_type": "code",
   "execution_count": 7,
   "metadata": {},
   "outputs": [
    {
     "name": "stdout",
     "output_type": "stream",
     "text": [
      "FLAG{G3N3R4L123D_F31573L_EZ!}###\n"
     ]
    }
   ],
   "source": [
    "decrypt_file('assets/genfei/flag.enc')"
   ]
  }
 ],
 "metadata": {
  "kernelspec": {
   "display_name": "Python 3",
   "language": "python",
   "name": "python3"
  },
  "language_info": {
   "codemirror_mode": {
    "name": "ipython",
    "version": 3
   },
   "file_extension": ".py",
   "mimetype": "text/x-python",
   "name": "python",
   "nbconvert_exporter": "python",
   "pygments_lexer": "ipython3",
   "version": "3.6.6"
  }
 },
 "nbformat": 4,
 "nbformat_minor": 2
}
