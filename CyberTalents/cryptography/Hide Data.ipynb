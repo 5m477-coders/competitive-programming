{
 "cells": [
  {
   "cell_type": "code",
   "execution_count": 1,
   "metadata": {},
   "outputs": [],
   "source": [
    "def update_str(s, off):\n",
    "    orig_index = [ord(c)-ord('a') if not (c>='0' and c<='9') else c for c in s]\n",
    "    modified_index = [chr(ord('a') + ((ind + off) %26)) if (isinstance(ind, int)) else ind for ind in orig_index]\n",
    "    return ''.join(modified_index)"
   ]
  },
  {
   "cell_type": "code",
   "execution_count": 2,
   "metadata": {},
   "outputs": [],
   "source": [
    "def update_sentence(s, off):\n",
    "    return ' '.join([update_str(st, off) for st in s.split()])"
   ]
  },
  {
   "cell_type": "code",
   "execution_count": 3,
   "metadata": {},
   "outputs": [
    {
     "name": "stdout",
     "output_type": "stream",
     "text": [
      "1 hvs tzou wg 2x68mtvezn qh wg dfshhm sogm hc gss hvs tzou pih qob mci gss wh w hccy bsofzm 1 awbihs hc sbqcrs hvwg kwhv zwb13 uccr ziqy wb gczjwbu hvoh\n",
      "2 iwt uapv xh 2y68nuwfao ri xh egtiin tphn id htt iwt uapv qji rpc ndj htt xi x iddz ctpgan 1 bxcjit id tcrdst iwxh lxiw axc13 vdds ajrz xc hdakxcv iwpi\n",
      "3 jxu vbqw yi 2z68ovxgbp sj yi fhujjo uqio je iuu jxu vbqw rkj sqd oek iuu yj y jeea duqhbo 1 cydkju je udsetu jxyi myjx byd13 weet bksa yd ieblydw jxqj\n",
      "4 kyv wcrx zj 2a68pwyhcq tk zj givkkp vrjp kf jvv kyv wcrx slk tre pfl jvv zk z kffb evricp 1 dzelkv kf vetfuv kyzj nzky cze13 xffu cltb ze jfcmzex kyrk\n",
      "5 lzw xdsy ak 2b68qxzidr ul ak hjwllq wskq lg kww lzw xdsy tml usf qgm kww al a lggc fwsjdq 1 eafmlw lg wfugvw lzak oalz daf13 yggv dmuc af kgdnafy lzsl\n",
      "6 max yetz bl 2c68ryajes vm bl ikxmmr xtlr mh lxx max yetz unm vtg rhn lxx bm b mhhd gxtker 1 fbgnmx mh xgvhwx mabl pbma ebg13 zhhw envd bg lheobgz matm\n",
      "7 nby zfua cm 2d68szbkft wn cm jlynns yums ni myy nby zfua von wuh sio myy cn c niie hyulfs 1 gchony ni yhwixy nbcm qcnb fch13 aiix fowe ch mifpcha nbun\n",
      "8 ocz agvb dn 2e68taclgu xo dn kmzoot zvnt oj nzz ocz agvb wpo xvi tjp nzz do d ojjf izvmgt 1 hdipoz oj zixjyz ocdn rdoc gdi13 bjjy gpxf di njgqdib ocvo\n",
      "9 pda bhwc eo 2f68ubdmhv yp eo lnappu awou pk oaa pda bhwc xqp ywj ukq oaa ep e pkkg jawnhu 1 iejqpa pk ajykza pdeo sepd hej13 ckkz hqyg ej okhrejc pdwp\n",
      "10 qeb cixd fp 2g68vceniw zq fp mobqqv bxpv ql pbb qeb cixd yrq zxk vlr pbb fq f qllh kbxoiv 1 jfkrqb ql bkzlab qefp tfqe ifk13 dlla irzh fk plisfkd qexq\n",
      "11 rfc djye gq 2h68wdfojx ar gq npcrrw cyqw rm qcc rfc djye zsr ayl wms qcc gr g rmmi lcypjw 1 kglsrc rm clambc rfgq ugrf jgl13 emmb jsai gl qmjtgle rfyr\n",
      "12 sgd ekzf hr 2i68xegpky bs hr oqdssx dzrx sn rdd sgd ekzf ats bzm xnt rdd hs h snnj mdzqkx 1 lhmtsd sn dmbncd sghr vhsg khm13 fnnc ktbj hm rnkuhmf sgzs\n",
      "13 the flag is 2j68yfhqlz ct is pretty easy to see the flag but can you see it i took nearly 1 minute to encode this with lin13 good luck in solving that\n",
      "14 uif gmbh jt 2k68zgirma du jt qsfuuz fbtz up tff uif gmbh cvu dbo zpv tff ju j uppl ofbsmz 1 njovuf up fodpef uijt xjui mjo13 hppe mvdl jo tpmwjoh uibu\n",
      "15 vjg hnci ku 2l68ahjsnb ev ku rtgvva gcua vq ugg vjg hnci dwv ecp aqw ugg kv k vqqm pgctna 1 okpwvg vq gpeqfg vjku ykvj nkp13 iqqf nwem kp uqnxkpi vjcv\n",
      "16 wkh iodj lv 2m68biktoc fw lv suhwwb hdvb wr vhh wkh iodj exw fdq brx vhh lw l wrrn qhduob 1 plqxwh wr hqfrgh wklv zlwk olq13 jrrg oxfn lq vroylqj wkdw\n",
      "17 xli jpek mw 2n68cjlupd gx mw tvixxc iewc xs wii xli jpek fyx ger csy wii mx m xsso rievpc 1 qmryxi xs irgshi xlmw amxl pmr13 kssh pygo mr wspzmrk xlex\n",
      "18 ymj kqfl nx 2o68dkmvqe hy nx uwjyyd jfxd yt xjj ymj kqfl gzy hfs dtz xjj ny n yttp sjfwqd 1 rnszyj yt jshtij ymnx bnym qns13 ltti qzhp ns xtqansl ymfy\n",
      "19 znk lrgm oy 2p68elnwrf iz oy vxkzze kgye zu ykk znk lrgm haz igt eua ykk oz o zuuq tkgxre 1 sotazk zu ktiujk znoy cozn rot13 muuj raiq ot yurbotm zngz\n",
      "20 aol mshn pz 2q68fmoxsg ja pz wylaaf lhzf av zll aol mshn iba jhu fvb zll pa p avvr ulhysf 1 tpubal av lujvkl aopz dpao spu13 nvvk sbjr pu zvscpun aoha\n",
      "21 bpm ntio qa 2r68gnpyth kb qa xzmbbg miag bw amm bpm ntio jcb kiv gwc amm qb q bwws vmiztg 1 uqvcbm bw mvkwlm bpqa eqbp tqv13 owwl tcks qv awtdqvo bpib\n",
      "22 cqn oujp rb 2s68hoqzui lc rb yancch njbh cx bnn cqn oujp kdc ljw hxd bnn rc r cxxt wnjauh 1 vrwdcn cx nwlxmn cqrb frcq urw13 pxxm udlt rw bxuerwp cqjc\n",
      "23 dro pvkq sc 2t68ipravj md sc zboddi okci dy coo dro pvkq led mkx iye coo sd s dyyu xokbvi 1 wsxedo dy oxmyno drsc gsdr vsx13 qyyn vemu sx cyvfsxq drkd\n",
      "24 esp qwlr td 2u68jqsbwk ne td acpeej pldj ez dpp esp qwlr mfe nly jzf dpp te t ezzv yplcwj 1 xtyfep ez pynzop estd htes wty13 rzzo wfnv ty dzwgtyr esle\n",
      "25 ftq rxms ue 2v68krtcxl of ue bdqffk qmek fa eqq ftq rxms ngf omz kag eqq uf u faaw zqmdxk 1 yuzgfq fa qzoapq ftue iuft xuz13 saap xgow uz eaxhuzs ftmf\n",
      "26 gur synt vf 2w68lsudym pg vf cerggl rnfl gb frr gur synt ohg pna lbh frr vg v gbbx arneyl 1 zvahgr gb rapbqr guvf jvgu yva13 tbbq yhpx va fbyivat gung\n"
     ]
    }
   ],
   "source": [
    "s= 'gur synt vf 2w68lsudym Vg vf cerggl rnfl gb frr gur synt ohg pna lbh frr vg v gbbx arneyl 1 zvahgr gb rapbqr guvf jvgu EBG13 tbbq yhpx va fbyivat gung'\n",
    "for offset in range(1, 27):\n",
    "    print(offset, update_sentence(s, offset))"
   ]
  },
  {
   "cell_type": "code",
   "execution_count": 4,
   "metadata": {},
   "outputs": [
    {
     "data": {
      "text/plain": [
       "'the flag is 2j68yfhqlz ct is pretty easy to see the flag but can you see it i took nearly 1 minute to encode this with lin13 good luck in solving that'"
      ]
     },
     "execution_count": 4,
     "metadata": {},
     "output_type": "execute_result"
    }
   ],
   "source": [
    "update_sentence(s, 13)"
   ]
  }
 ],
 "metadata": {
  "kernelspec": {
   "display_name": "Python 3",
   "language": "python",
   "name": "python3"
  },
  "language_info": {
   "codemirror_mode": {
    "name": "ipython",
    "version": 3
   },
   "file_extension": ".py",
   "mimetype": "text/x-python",
   "name": "python",
   "nbconvert_exporter": "python",
   "pygments_lexer": "ipython3",
   "version": "3.6.6"
  }
 },
 "nbformat": 4,
 "nbformat_minor": 2
}
