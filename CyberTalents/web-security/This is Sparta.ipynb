{
 "cells": [
  {
   "cell_type": "markdown",
   "metadata": {},
   "source": [
    "# Investigate the html file"
   ]
  },
  {
   "cell_type": "code",
   "execution_count": 1,
   "metadata": {},
   "outputs": [
    {
     "name": "stdout",
     "output_type": "stream",
     "text": [
      "<!-- saved from url=(0027)http://35.193.45.56/sparta/ -->\n",
      "\n",
      "<html><head><meta http-equiv=\"Content-Type\" content=\"text/html; charset=UTF-8\"><link href=\"./This is Sparta_files/css\" rel=\"stylesheet\" type=\"text/css\">\n",
      "\n",
      "</head><body><br>\n",
      "\n",
      "<center>\n",
      "\n",
      "<title>This is Sparta </title>\n",
      "\n",
      "<link href=\"./This is Sparta_files/css(1)\" rel=\"stylesheet\" type=\"text/css\">\n",
      "\n",
      "<font face=\"Patua One\">\n",
      "\n",
      "    <center><br><br><br><br><br>\n",
      "\n",
      "        <font face=\"Patua One\"><p style=\"font-size:25px\"> <font size=\"10\" color=\"red\">☯</font> This is Sparta </p></font>\n",
      "\n",
      "    <form method=\"POST\">\n",
      "\n",
      "            <fieldset style=\"width:400px;border: 2px solid #486f9a;border-radius: 5px;padding: 10px;\">\n",
      "\n",
      "                <label for=\"user\">Username:</label> \n",
      "\n",
      "                <input type=\"Text\" name=\"user\" id=\"user\" autocomplete=\"off\"><br><br>\n",
      "\n",
      "                <label for=\"user\">Password:</label>\n",
      "\n",
      "                <input type=\"Password\" name=\"pass\" id=\"pass\" autocomplete=\"off\"><br><br>\n",
      "\n",
      "                <input type=\"submit\" value=\"Submit\" class=\"button\" name=\"submit\">\n",
      "\n",
      "            </fieldset><br><br>\n",
      "\n",
      "        </form>\n",
      "\n",
      "<button style=\"border:none;font-size:30px;font-family:&#39;impact&#39;;border-radius:6px;\" onclick=\"Hint()\"><font size=\"10\">☯</font>  Hint</button>\n",
      "\n",
      "<p id=\"hint\"></p>\n",
      "\n",
      "<script>\n",
      "\n",
      "function Hint() {\n",
      "\n",
      "    document.getElementById(\"hint\").innerHTML = 'Easier than Ableton';\n",
      "\n",
      "}\n",
      "\n",
      "</script>\n",
      "\n",
      "<script>\n",
      "\n",
      "var _0xae5b=[\"\\x76\\x61\\x6C\\x75\\x65\",\"\\x75\\x73\\x65\\x72\",\"\\x67\\x65\\x74\\x45\\x6C\\x65\\x6D\\x65\\x6E\\x74\\x42\\x79\\x49\\x64\",\"\\x70\\x61\\x73\\x73\",\"\\x43\\x79\\x62\\x65\\x72\\x2d\\x54\\x61\\x6c\\x65\\x6e\\x74\",\"\\x20\\x20\\x20\\x20\\x20\\x20\\x20\\x20\\x20\\x20\\x20\\x20\\x20\\x20\\x20\\x20\\x20\\x20\\x20\\x20\\x20\\x20\\x43\\x6F\\x6E\\x67\\x72\\x61\\x74\\x7A\\x20\\x0A\\x0A\",\"\\x77\\x72\\x6F\\x6E\\x67\\x20\\x50\\x61\\x73\\x73\\x77\\x6F\\x72\\x64\"];function check(){var _0xeb80x2=document[_0xae5b[2]](_0xae5b[1])[_0xae5b[0]];var _0xeb80x3=document[_0xae5b[2]](_0xae5b[3])[_0xae5b[0]];if(_0xeb80x2==_0xae5b[4]&&_0xeb80x3==_0xae5b[4]){alert(_0xae5b[5]);} else {alert(_0xae5b[6]);}}\n",
      "\n",
      "</script>\n",
      "\n",
      "</center></font></center></body></html>\n"
     ]
    }
   ],
   "source": [
    "with open('assets/This is Sparta/This is Sparta.html', 'r') as f:\n",
    "    lines = f.readlines()\n",
    "    lines = [line for line in lines if line.strip()]\n",
    "    print('\\n'.join(lines))"
   ]
  },
  {
   "cell_type": "markdown",
   "metadata": {},
   "source": [
    "# Check mysterious parts\n",
    "- The following js script seems to be comparing some values and producing alerts.\n",
    "- Let's check the hexadecimal values stored in the _0xae5b variable"
   ]
  },
  {
   "cell_type": "code",
   "execution_count": 2,
   "metadata": {},
   "outputs": [
    {
     "name": "stdout",
     "output_type": "stream",
     "text": [
      "<script>\n",
      "\n",
      "var _0xae5b=[\"\\x76\\x61\\x6C\\x75\\x65\",\"\\x75\\x73\\x65\\x72\",\"\\x67\\x65\\x74\\x45\\x6C\\x65\\x6D\\x65\\x6E\\x74\\x42\\x79\\x49\\x64\",\"\\x70\\x61\\x73\\x73\",\"\\x43\\x79\\x62\\x65\\x72\\x2d\\x54\\x61\\x6c\\x65\\x6e\\x74\",\"\\x20\\x20\\x20\\x20\\x20\\x20\\x20\\x20\\x20\\x20\\x20\\x20\\x20\\x20\\x20\\x20\\x20\\x20\\x20\\x20\\x20\\x20\\x43\\x6F\\x6E\\x67\\x72\\x61\\x74\\x7A\\x20\\x0A\\x0A\",\"\\x77\\x72\\x6F\\x6E\\x67\\x20\\x50\\x61\\x73\\x73\\x77\\x6F\\x72\\x64\"];function check(){var _0xeb80x2=document[_0xae5b[2]](_0xae5b[1])[_0xae5b[0]];var _0xeb80x3=document[_0xae5b[2]](_0xae5b[3])[_0xae5b[0]];if(_0xeb80x2==_0xae5b[4]&&_0xeb80x3==_0xae5b[4]){alert(_0xae5b[5]);} else {alert(_0xae5b[6]);}}\n",
      "\n",
      "</script>\n",
      "\n",
      "</center></font></center></body></html>\n"
     ]
    }
   ],
   "source": [
    "print('\\n'.join(lines[-4:]))"
   ]
  },
  {
   "cell_type": "code",
   "execution_count": 3,
   "metadata": {},
   "outputs": [
    {
     "name": "stdout",
     "output_type": "stream",
     "text": [
      "_0xae5b[0] = value\n",
      "_0xae5b[1] = user\n",
      "_0xae5b[2] = getElementById\n",
      "_0xae5b[3] = pass\n",
      "_0xae5b[4] = Cyber-Talent\n",
      "_0xae5b[5] =                       Congratz \n",
      "\n",
      "\n",
      "_0xae5b[6] = wrong Password\n"
     ]
    }
   ],
   "source": [
    "l = [\"\\x76\\x61\\x6C\\x75\\x65\",\"\\x75\\x73\\x65\\x72\",\"\\x67\\x65\\x74\\x45\\x6C\\x65\\x6D\\x65\\x6E\\x74\\x42\\x79\\x49\\x64\",\"\\x70\\x61\\x73\\x73\",\"\\x43\\x79\\x62\\x65\\x72\\x2d\\x54\\x61\\x6c\\x65\\x6e\\x74\",\"\\x20\\x20\\x20\\x20\\x20\\x20\\x20\\x20\\x20\\x20\\x20\\x20\\x20\\x20\\x20\\x20\\x20\\x20\\x20\\x20\\x20\\x20\\x43\\x6F\\x6E\\x67\\x72\\x61\\x74\\x7A\\x20\\x0A\\x0A\",\"\\x77\\x72\\x6F\\x6E\\x67\\x20\\x50\\x61\\x73\\x73\\x77\\x6F\\x72\\x64\"]\n",
    "for i, val in enumerate(l):\n",
    "    print('_0xae5b[{}] = {}'.format(i, val))"
   ]
  },
  {
   "cell_type": "markdown",
   "metadata": {},
   "source": [
    "# Understand what the function check is really doing\n",
    "```\n",
    "function check(){\n",
    "    var _0xeb80x2=document[_0xae5b[2]](_0xae5b[1])[_0xae5b[0]];\n",
    "    var _0xeb80x3=document[_0xae5b[2]](_0xae5b[3])[_0xae5b[0]];\n",
    "    if(_0xeb80x2==_0xae5b[4]&&_0xeb80x3==_0xae5b[4]){\n",
    "        alert(_0xae5b[5]);\n",
    "    }\n",
    "    else {\n",
    "        alert(_0xae5b[6]);\n",
    "    }\n",
    "}\n",
    "```"
   ]
  },
  {
   "cell_type": "markdown",
   "metadata": {},
   "source": [
    "### After substituting the values:\n",
    "```\n",
    "var _0xeb80x2=document[getElementById](user)[value];\n",
    "var _0xeb80x3=document[getElementById](pass)[value];\n",
    "if(_0xeb80x2==\"Cyber-Talent\"&&_0xeb80x3==\"Cyber-Talent\"){\n",
    "```\n",
    "- Clearly the username is stored in _0xeb80x2 and the password is stored in _0xeb80x3 and they are both compared to \"Cyber-Talent\".\n",
    "- Thus, we will use the \"Cyber-Talent\" in order to log in and find the flag."
   ]
  }
 ],
 "metadata": {
  "kernelspec": {
   "display_name": "Python 3",
   "language": "python",
   "name": "python3"
  },
  "language_info": {
   "codemirror_mode": {
    "name": "ipython",
    "version": 3
   },
   "file_extension": ".py",
   "mimetype": "text/x-python",
   "name": "python",
   "nbconvert_exporter": "python",
   "pygments_lexer": "ipython3",
   "version": "3.6.6"
  }
 },
 "nbformat": 4,
 "nbformat_minor": 2
}
